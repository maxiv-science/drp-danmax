{
 "cells": [
  {
   "cell_type": "code",
   "execution_count": 3,
   "id": "18aea755-f61b-491b-8eae-74299943b14d",
   "metadata": {},
   "outputs": [],
   "source": [
    "import cbor2"
   ]
  },
  {
   "cell_type": "code",
   "execution_count": 8,
   "id": "94753eee-57c2-45b8-b1c5-08872f8c6b65",
   "metadata": {},
   "outputs": [
    {
     "name": "stdout",
     "output_type": "stream",
     "text": [
      "CBORTag(42877, [0, {'pcap_rot': CBORTag(42878, ['PCAP_RAW', [b'arm_time: 1970-01-14T06:36:37.093Z\\nstart_time: 1970-01-14T06:36:37.093Z\\nmissed: 0\\nprocess: Scaled\\nformat: ASCII\\nfields:\\n PCAP.BITS0 uint32 Value\\n INENC2.VAL double Min scale: 1 offset: 0 units: \\n INENC2.VAL double Max scale: 1 offset: 0 units: \\n PCAP.TS_TRIG double Value scale: 8e-09 offset: 0 units: s\\n INENC2.VAL double Mean scale: 1 offset: 0 units: \\n SFP3_SYNC_IN.POS1 double Mean scale: 1 offset: 0 units: \\n\\n']])}])\n",
      "CBORTag(42877, [1, {'pcap_rot': CBORTag(42878, ['PCAP_RAW', [b' 64806368 35005 35005 0.614804288 35005 701422573.3\\n']])}])\n",
      "CBORTag(42877, [2, {'pcap_rot': CBORTag(42878, ['PCAP_RAW', [b' 64806368 35005 35005 0.747786816 35005 916152509\\n']])}])\n",
      "CBORTag(42877, [3, {'pcap_rot': CBORTag(42878, ['PCAP_RAW', [b' 64806368 35005 35005 0.880769344 35005 1130895525\\n']])}])\n",
      "CBORTag(42877, [4, {'pcap_rot': CBORTag(42878, ['PCAP_RAW', [b' 64806368 35005 35005 1.013751872 35005 1345642835\\n']])}])\n",
      "CBORTag(42877, [5, {'pcap_rot': CBORTag(42878, ['PCAP_RAW', [b' 64806368 35005 35005 1.1467344 35005 1560395044\\n']])}])\n",
      "CBORTag(42877, [6, {'pcap_rot': CBORTag(42878, ['PCAP_RAW', [b' 64806368 35005 35005 1.279716928 35005 1775139866\\n']])}])\n",
      "CBORTag(42877, [7, {'pcap_rot': CBORTag(42878, ['PCAP_RAW', [b' 64806368 35005 35005 1.412699456 35005 1989885379\\n']])}])\n",
      "CBORTag(42877, [8, {'pcap_rot': CBORTag(42878, ['PCAP_RAW', [b' 64806368 35005 35005 1.545681984 35005 -1462195292\\n']])}])\n",
      "CBORTag(42877, [9, {'pcap_rot': CBORTag(42878, ['PCAP_RAW', [b' 64806368 35005 35005 1.678664512 35005 -1875582232\\n']])}])\n",
      "CBORTag(42877, [10, {'pcap_rot': CBORTag(42878, ['PCAP_RAW', [b' 64806368 35005 35005 1.81164704 35005 -1660838628\\n']])}])\n",
      "CBORTag(42877, [11, {'pcap_rot': CBORTag(42878, ['PCAP_RAW', [b' 64806368 35005 35005 1.944629568 35005 -1446088113\\n']])}])\n",
      "CBORTag(42877, [12, {'pcap_rot': CBORTag(42878, ['PCAP_RAW', [b'END 11 Disarmed\\n']])}])\n"
     ]
    }
   ],
   "source": [
    "with open(\"dumppcap_rot-ingester-70b3ce40-6e3e-4931-8dbc-245334e26eae.cbors\", \"rb\") as f:\n",
    "    with open(\"dumppcap_rotRAW-ingester-70b3ce40-6e3e-4931-8dbc-245334e26eae.cbors\", \"wb\") as fo:\n",
    "        while True:\n",
    "            try:\n",
    "                pkg = cbor2.load(f)\n",
    "                pkg.value[1][\"pcap_rot\"].value[0] = \"PCAP_RAW\"\n",
    "                print(pkg)\n",
    "                cbor2.dump(pkg, fo)\n",
    "                #print(pkg.value[1][\"pcap_rot\"].value[0])\n",
    "            except:\n",
    "                break\n",
    "            #break"
   ]
  },
  {
   "cell_type": "code",
   "execution_count": 4,
   "id": "4724ea2a-b585-4c40-8700-d8892fb7cb05",
   "metadata": {},
   "outputs": [
    {
     "name": "stdout",
     "output_type": "stream",
     "text": [
      "CBORTag(42877, [0, {'pcap_rot': CBORTag(42878, ['PCAP_RAW', [b'arm_time: 2024-08-21T13:59:53.533Z\\nmissed: 0\\nprocess: Scaled\\nformat: ASCII\\nfields:\\n PCAP.BITS0 uint32 Value\\n INENC1.VAL double Min scale: 1 offset: 0 units: \\n INENC1.VAL double Max scale: 1 offset: 0 units: \\n PCAP.TS_TRIG double Value scale: 8e-09 offset: 0 units: s\\n INENC1.VAL double Mean scale: 1 offset: 0 units: \\n SFP3_SYNC_IN.POS1 double Mean scale: 1 offset: 0 units: \\n\\n']])}])\n",
      "CBORTag(42877, [1, {'pcap_rot': CBORTag(42878, ['PCAP_RAW', [b' 872210400 375 376 0.035941168 375.1871248 -1535536675\\n']])}])\n",
      "CBORTag(42877, [2, {'pcap_rot': CBORTag(42878, ['PCAP_RAW', [b' 871161568 369 375 0.046941168 372.6255248 -1535528475\\n']])}])\n",
      "CBORTag(42877, [3, {'pcap_rot': CBORTag(42878, ['PCAP_RAW', [b' 872206304 351 368 0.057941168 360.2127232 -1535520496\\n']])}])\n",
      "CBORTag(42877, [4, {'pcap_rot': CBORTag(42878, ['PCAP_RAW', [b' 871161568 325 349 0.068941168 337.7525192 -1535512761\\n']])}])\n",
      "CBORTag(42877, [5, {'pcap_rot': CBORTag(42878, ['PCAP_RAW', [b' 872210400 288 322 0.079941168 305.3949736 -1535505272\\n']])}])\n",
      "CBORTag(42877, [6, {'pcap_rot': CBORTag(42878, ['PCAP_RAW', [b' 871161568 241 284 0.090941168 263.1804472 -1535498061\\n']])}])\n",
      "CBORTag(42877, [7, {'pcap_rot': CBORTag(42878, ['PCAP_RAW', [b' 872210400 184 237 0.101941168 211.09364 -1535491114\\n']])}])\n",
      "CBORTag(42877, [8, {'pcap_rot': CBORTag(42878, ['PCAP_RAW', [b' 871157472 118 180 0.112941168 149.355776 -1535484406\\n']])}])\n",
      "CBORTag(42877, [9, {'pcap_rot': CBORTag(42878, ['PCAP_RAW', [b' 871157472 42 112 0.123941168 77.657352 -1535477944\\n']])}])\n",
      "CBORTag(42877, [10, {'pcap_rot': CBORTag(42878, ['PCAP_RAW', [b' 872210400 -44 35 0.134941168 -3.8762408 -1535471781\\n']])}])\n",
      "CBORTag(42877, [11, {'pcap_rot': CBORTag(42878, ['PCAP_RAW', [b'END 10 Disarmed\\n']])}])\n",
      "CBORTag(42877, [12, {'pcap_rot': CBORTag(42878, ['PCAP_RAW', [b'arm_time: 2024-08-21T13:59:55.188Z\\nmissed: 0\\nprocess: Scaled\\nformat: ASCII\\nfields:\\n PCAP.BITS0 uint32 Value\\n INENC1.VAL double Min scale: 1 offset: 0 units: \\n INENC1.VAL double Max scale: 1 offset: 0 units: \\n PCAP.TS_TRIG double Value scale: 8e-09 offset: 0 units: s\\n INENC1.VAL double Mean scale: 1 offset: 0 units: \\n SFP3_SYNC_IN.POS1 double Mean scale: 1 offset: 0 units: \\n\\n']])}])\n",
      "CBORTag(42877, [13, {'pcap_rot': CBORTag(42878, ['PCAP_RAW', [b' 871165664 374 376 0.032300216 375.0558632 -1535979018\\n']])}])\n",
      "CBORTag(42877, [14, {'pcap_rot': CBORTag(42878, ['PCAP_RAW', [b' 872214496 363 373 0.043300216 368.6898264 -1535973942\\n']])}])\n",
      "CBORTag(42877, [15, {'pcap_rot': CBORTag(42878, ['PCAP_RAW', [b' 871165664 342 361 0.054300216 351.9012456 -1535968657\\n']])}])\n",
      "CBORTag(42877, [16, {'pcap_rot': CBORTag(42878, ['PCAP_RAW', [b' 871165664 310 339 0.065300216 325.4068528 -1535963156\\n']])}])\n",
      "CBORTag(42877, [17, {'pcap_rot': CBORTag(42878, ['PCAP_RAW', [b' 871169760 269 307 0.076300216 288.940188 -1535957451\\n']])}])\n",
      "CBORTag(42877, [18, {'pcap_rot': CBORTag(42878, ['PCAP_RAW', [b' 872218592 220 265 0.087300216 242.6889352 -1535951575\\n']])}])\n",
      "CBORTag(42877, [19, {'pcap_rot': CBORTag(42878, ['PCAP_RAW', [b' 871165664 158 214 0.098300216 186.3985616 -1535945535\\n']])}])\n",
      "CBORTag(42877, [20, {'pcap_rot': CBORTag(42878, ['PCAP_RAW', [b' 872218592 88 153 0.109300216 120.4858064 -1535939317\\n']])}])\n",
      "CBORTag(42877, [21, {'pcap_rot': CBORTag(42878, ['PCAP_RAW', [b' 872218592 8 80 0.120300216 44.65026 -1535932933\\n']])}])\n",
      "CBORTag(42877, [22, {'pcap_rot': CBORTag(42878, ['PCAP_RAW', [b' 871169760 -83 -1 0.131300216 -40.9459424 -1535926362\\n']])}])\n",
      "CBORTag(42877, [23, {'pcap_rot': CBORTag(42878, ['PCAP_RAW', [b'END 10 Disarmed\\n']])}])\n",
      "CBORTag(42877, [24, {'pcap_rot': CBORTag(42878, ['PCAP_RAW', [b'arm_time: 2024-08-21T13:59:56.829Z\\nmissed: 0\\nprocess: Scaled\\nformat: ASCII\\nfields:\\n PCAP.BITS0 uint32 Value\\n INENC1.VAL double Min scale: 1 offset: 0 units: \\n INENC1.VAL double Max scale: 1 offset: 0 units: \\n PCAP.TS_TRIG double Value scale: 8e-09 offset: 0 units: s\\n INENC1.VAL double Mean scale: 1 offset: 0 units: \\n SFP3_SYNC_IN.POS1 double Mean scale: 1 offset: 0 units: \\n\\n']])}])\n",
      "CBORTag(42877, [25, {'pcap_rot': CBORTag(42878, ['PCAP_RAW', [b' 869059808 374 376 0.03273908 375.0674552 -1535834065\\n']])}])\n",
      "CBORTag(42877, [26, {'pcap_rot': CBORTag(42878, ['PCAP_RAW', [b' 870108640 363 373 0.04373908 368.6300064 -1535840093\\n']])}])\n",
      "CBORTag(42877, [27, {'pcap_rot': CBORTag(42878, ['PCAP_RAW', [b' 869063904 341 361 0.05473908 351.7792672 -1535846006\\n']])}])\n",
      "CBORTag(42877, [28, {'pcap_rot': CBORTag(42878, ['PCAP_RAW', [b' 869059808 310 339 0.06573908 325.1893456 -1535851810\\n']])}])\n",
      "CBORTag(42877, [29, {'pcap_rot': CBORTag(42878, ['PCAP_RAW', [b' 869063904 269 306 0.07673908 288.655152 -1535857477\\n']])}])\n",
      "CBORTag(42877, [30, {'pcap_rot': CBORTag(42878, ['PCAP_RAW', [b' 870108640 219 265 0.08773908 242.3008128 -1535862988\\n']])}])\n",
      "CBORTag(42877, [31, {'pcap_rot': CBORTag(42878, ['PCAP_RAW', [b' 869059808 158 213 0.09873908 185.941344 -1535868362\\n']])}])\n",
      "CBORTag(42877, [32, {'pcap_rot': CBORTag(42878, ['PCAP_RAW', [b' 870112736 88 152 0.10973908 119.9709272 -1535873597\\n']])}])\n",
      "CBORTag(42877, [33, {'pcap_rot': CBORTag(42878, ['PCAP_RAW', [b' 870108640 7 80 0.12073908 44.1084872 -1535878669\\n']])}])\n",
      "CBORTag(42877, [34, {'pcap_rot': CBORTag(42878, ['PCAP_RAW', [b' 870112736 -84 -1 0.13173908 -41.6105304 -1535883614\\n']])}])\n",
      "CBORTag(42877, [35, {'pcap_rot': CBORTag(42878, ['PCAP_RAW', [b'END 10 Disarmed\\n']])}])\n",
      "CBORTag(42877, [36, {'pcap_rot': CBORTag(42878, ['PCAP_RAW', [b'arm_time: 2024-08-21T13:59:58.465Z\\nmissed: 0\\nprocess: Scaled\\nformat: ASCII\\nfields:\\n PCAP.BITS0 uint32 Value\\n INENC1.VAL double Min scale: 1 offset: 0 units: \\n INENC1.VAL double Max scale: 1 offset: 0 units: \\n PCAP.TS_TRIG double Value scale: 8e-09 offset: 0 units: s\\n INENC1.VAL double Mean scale: 1 offset: 0 units: \\n SFP3_SYNC_IN.POS1 double Mean scale: 1 offset: 0 units: \\n\\n']])}])\n",
      "CBORTag(42877, [37, {'pcap_rot': CBORTag(42878, ['PCAP_RAW', [b' 872206304 375 376 0.033959328 375.1868752 -1535572857\\n']])}])\n",
      "CBORTag(42877, [38, {'pcap_rot': CBORTag(42878, ['PCAP_RAW', [b' 871157472 366 375 0.044959328 371.0971808 -1535574928\\n']])}])\n",
      "CBORTag(42877, [39, {'pcap_rot': CBORTag(42878, ['PCAP_RAW', [b' 872206304 347 365 0.055959328 356.79224 -1535577161\\n']])}])\n",
      "CBORTag(42877, [40, {'pcap_rot': CBORTag(42878, ['PCAP_RAW', [b' 872206304 319 345 0.066959328 332.6944632 -1535579512\\n']])}])\n",
      "CBORTag(42877, [41, {'pcap_rot': CBORTag(42878, ['PCAP_RAW', [b' 872210400 280 316 0.077959328 298.43056 -1535582018\\n']])}])\n",
      "CBORTag(42877, [42, {'pcap_rot': CBORTag(42878, ['PCAP_RAW', [b' 872206304 231 276 0.088959328 254.4785304 -1535584655\\n']])}])\n",
      "CBORTag(42877, [43, {'pcap_rot': CBORTag(42878, ['PCAP_RAW', [b' 871157472 174 226 0.099959328 200.7477504 -1535587430\\n']])}])\n",
      "CBORTag(42877, [44, {'pcap_rot': CBORTag(42878, ['PCAP_RAW', [b' 871161568 105 167 0.110959328 136.9988712 -1535590346\\n']])}])\n",
      "CBORTag(42877, [45, {'pcap_rot': CBORTag(42878, ['PCAP_RAW', [b' 872206304 27 98 0.121959328 63.5423496 -1535593382\\n']])}])\n",
      "CBORTag(42877, [46, {'pcap_rot': CBORTag(42878, ['PCAP_RAW', [b' 872210400 -60 20 0.132959328 -19.756176 -1535596538\\n']])}])\n",
      "CBORTag(42877, [47, {'pcap_rot': CBORTag(42878, ['PCAP_RAW', [b'END 10 Disarmed\\n']])}])\n",
      "CBORTag(42877, [48, {'pcap_rot': CBORTag(42878, ['PCAP_RAW', [b'arm_time: 2024-08-21T14:00:00.122Z\\nmissed: 0\\nprocess: Scaled\\nformat: ASCII\\nfields:\\n PCAP.BITS0 uint32 Value\\n INENC1.VAL double Min scale: 1 offset: 0 units: \\n INENC1.VAL double Max scale: 1 offset: 0 units: \\n PCAP.TS_TRIG double Value scale: 8e-09 offset: 0 units: s\\n INENC1.VAL double Mean scale: 1 offset: 0 units: \\n SFP3_SYNC_IN.POS1 double Mean scale: 1 offset: 0 units: \\n\\n']])}])\n",
      "CBORTag(42877, [49, {'pcap_rot': CBORTag(42878, ['PCAP_RAW', [b' 869068000 374 376 0.035419504 375.1064624 -1535686857\\n']])}])\n",
      "CBORTag(42877, [50, {'pcap_rot': CBORTag(42878, ['PCAP_RAW', [b' 870120928 364 374 0.046419504 369.3002128 -1535683087\\n']])}])\n",
      "CBORTag(42877, [51, {'pcap_rot': CBORTag(42878, ['PCAP_RAW', [b' 870116832 343 362 0.057419504 353.1266448 -1535679354\\n']])}])\n",
      "CBORTag(42877, [52, {'pcap_rot': CBORTag(42878, ['PCAP_RAW', [b' 870120928 312 341 0.068419504 327.2640576 -1535675669\\n']])}])\n",
      "CBORTag(42877, [53, {'pcap_rot': CBORTag(42878, ['PCAP_RAW', [b' 870120928 272 309 0.079419504 291.3385008 -1535672072\\n']])}])\n",
      "CBORTag(42877, [54, {'pcap_rot': CBORTag(42878, ['PCAP_RAW', [b' 869068000 222 268 0.090419504 245.5734576 -1535668515\\n']])}])\n",
      "CBORTag(42877, [55, {'pcap_rot': CBORTag(42878, ['PCAP_RAW', [b' 869072096 161 217 0.101419504 189.9540376 -1535665029\\n']])}])\n",
      "CBORTag(42877, [56, {'pcap_rot': CBORTag(42878, ['PCAP_RAW', [b' 870120928 92 157 0.112419504 124.5662816 -1535661622\\n']])}])\n",
      "CBORTag(42877, [57, {'pcap_rot': CBORTag(42878, ['PCAP_RAW', [b' 869072096 13 85 0.123419504 49.29754 -1535658280\\n']])}])\n",
      "CBORTag(42877, [58, {'pcap_rot': CBORTag(42878, ['PCAP_RAW', [b' 870116832 -77 5 0.134419504 -35.7325824 -1535655028\\n']])}])\n",
      "CBORTag(42877, [59, {'pcap_rot': CBORTag(42878, ['PCAP_RAW', [b'END 10 Disarmed\\n']])}])\n",
      "CBORDecodeEOF('premature end of stream (expected to read 1 bytes, got 0 instead)')\n"
     ]
    }
   ],
   "source": [
    "with open(\"mesh2dworkpcap_rot-ingester-9c93f54e-2ca7-495d-85d2-7aba6cdc99a9.cbors\", \"rb\") as f:\n",
    "    with open(\"mesh2dworkpcap_rotRAW-ingester-9c93f54e-2ca7-495d-85d2-7aba6cdc99a9.cbors\", \"wb\") as fo:\n",
    "        while True:\n",
    "            try:\n",
    "                pkg = cbor2.load(f)\n",
    "                pkg.value[1][\"pcap_rot\"].value[0] = \"PCAP_RAW\"\n",
    "                print(pkg)\n",
    "                cbor2.dump(pkg, fo)\n",
    "                #print(pkg.value[1][\"pcap_rot\"].value[0])\n",
    "            except Exception as e:\n",
    "                print(e.__repr__())\n",
    "                break\n",
    "            #break"
   ]
  },
  {
   "cell_type": "code",
   "execution_count": null,
   "id": "f2ad6aa2-fb83-4ca3-a199-25b420a570c3",
   "metadata": {},
   "outputs": [],
   "source": []
  }
 ],
 "metadata": {
  "kernelspec": {
   "display_name": "Python 3 (ipykernel)",
   "language": "python",
   "name": "python3"
  },
  "language_info": {
   "codemirror_mode": {
    "name": "ipython",
    "version": 3
   },
   "file_extension": ".py",
   "mimetype": "text/x-python",
   "name": "python",
   "nbconvert_exporter": "python",
   "pygments_lexer": "ipython3",
   "version": "3.11.6"
  }
 },
 "nbformat": 4,
 "nbformat_minor": 5
}
